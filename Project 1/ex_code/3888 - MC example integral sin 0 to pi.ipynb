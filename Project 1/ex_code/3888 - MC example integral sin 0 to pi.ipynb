{
 "cells": [
  {
   "cell_type": "markdown",
   "id": "83cce098-67f3-43a7-85a9-3bb6df21c992",
   "metadata": {},
   "source": [
    "### Calculate defenite integral using uniform and normal Monte Carlo\n",
    "\n",
    "<!--\n",
    "<font size=\"6\">  <div class=\"latex\">  -->\n",
    "$$\\int_{0}^{\\pi} sin(x)\\,dx$$\n",
    "<!--</div>    \n",
    "</font>__>>v>\n",
    "</(x) \\,dx  \n",
    "$$\n",
    "\n"
   ]
  },
  {
   "cell_type": "markdown",
   "id": "6878c7a4-5781-44d3-a200-5f7a38581a17",
   "metadata": {},
   "source": [
    "## install numpy, if missing"
   ]
  },
  {
   "cell_type": "code",
   "execution_count": 1,
   "id": "98f08ea6-bbfa-423b-a6fe-72aa4c6c2091",
   "metadata": {},
   "outputs": [],
   "source": [
    "#!pip install numpy "
   ]
  },
  {
   "cell_type": "code",
   "execution_count": 2,
   "id": "d7cce3f7-8f04-4959-8fb1-5474f484463e",
   "metadata": {},
   "outputs": [],
   "source": [
    "import numpy as np\n",
    "import sys"
   ]
  },
  {
   "cell_type": "code",
   "execution_count": 3,
   "id": "c3246283-5a84-40cc-b6cc-0ae7382a2ed1",
   "metadata": {},
   "outputs": [
    {
     "name": "stdout",
     "output_type": "stream",
     "text": [
      "Python Version -  3.11.9 | packaged by conda-forge | (main, Apr 19 2024, 18:27:10) [MSC v.1938 64 bit (AMD64)]\n",
      "\n",
      "\n",
      "Numpy version -  2.0.1\n",
      "\n",
      "\n",
      "\n"
     ]
    }
   ],
   "source": [
    "print(\"Python Version - \" , sys.version)\n",
    "print(\"\\n\\nNumpy version - \", np.__version__)\n",
    "print(\"\\n\\n\")\n"
   ]
  },
  {
   "cell_type": "code",
   "execution_count": 4,
   "id": "16456e92-ad61-4907-a848-ee2f4490a412",
   "metadata": {},
   "outputs": [],
   "source": [
    "#number of simulations. \n",
    "N = 5000"
   ]
  },
  {
   "cell_type": "code",
   "execution_count": 5,
   "id": "98c0ee4c-cc13-4965-92e9-adfe7866a5f9",
   "metadata": {},
   "outputs": [],
   "source": [
    "arrU = np.random.uniform(low=0.0, high=np.pi, size = N)"
   ]
  },
  {
   "cell_type": "code",
   "execution_count": 6,
   "id": "9a5ca264-eeed-41e9-bc86-48a35216afec",
   "metadata": {},
   "outputs": [],
   "source": [
    "arrN = np.random.normal( loc = np.pi/2, scale = 1/3, size = N)"
   ]
  },
  {
   "cell_type": "code",
   "execution_count": 7,
   "id": "b7896dbd-5b84-44fc-a113-538c643949fa",
   "metadata": {},
   "outputs": [
    {
     "data": {
      "text/plain": [
       "np.float64(0.3502536545289836)"
      ]
     },
     "execution_count": 7,
     "metadata": {},
     "output_type": "execute_result"
    }
   ],
   "source": [
    "np.min(arrN)"
   ]
  },
  {
   "cell_type": "code",
   "execution_count": 8,
   "id": "de92c210-18df-4a1b-968b-c5bdf5a0d4e9",
   "metadata": {},
   "outputs": [
    {
     "data": {
      "text/plain": [
       "np.float64(2.8244312662331743)"
      ]
     },
     "execution_count": 8,
     "metadata": {},
     "output_type": "execute_result"
    }
   ],
   "source": [
    "np.max(arrN)"
   ]
  },
  {
   "cell_type": "code",
   "execution_count": 9,
   "id": "3d1fcd97-bc6a-4d5c-a017-4e7afe82a9fa",
   "metadata": {},
   "outputs": [],
   "source": [
    "arrN_L = np.max(arrN)-np.min(arrN)"
   ]
  },
  {
   "cell_type": "code",
   "execution_count": 10,
   "id": "64d3a988-2cd0-4216-9e77-a0a76c5279e9",
   "metadata": {},
   "outputs": [
    {
     "name": "stdout",
     "output_type": "stream",
     "text": [
      "2.4741776117041905\n"
     ]
    }
   ],
   "source": [
    "print(arrN_L)"
   ]
  },
  {
   "cell_type": "code",
   "execution_count": 11,
   "id": "4e7ebc12-8f83-413d-af72-a4a8548b7056",
   "metadata": {},
   "outputs": [],
   "source": [
    "arrN=(arrN - min(arrN))*np.pi/arrN_L"
   ]
  },
  {
   "cell_type": "code",
   "execution_count": 12,
   "id": "cd02d05b-f3ea-4b00-bf7a-f5c790aa7eaf",
   "metadata": {},
   "outputs": [
    {
     "name": "stdout",
     "output_type": "stream",
     "text": [
      "0.0 0.0 1.5493339846550964 1.573302583509629\n"
     ]
    }
   ],
   "source": [
    "print(arrN.min(),arrN.max()-np.pi,np.average(arrN),np.average(arrU))"
   ]
  },
  {
   "cell_type": "code",
   "execution_count": 13,
   "id": "829cd453-b41d-49bc-8ad0-6ef82824a3fc",
   "metadata": {},
   "outputs": [],
   "source": [
    "arrN.sort()\n",
    "arrSinN=np.sin(arrN)"
   ]
  },
  {
   "cell_type": "markdown",
   "id": "46f8b637-e672-4950-abec-974bff0f272a",
   "metadata": {},
   "source": [
    "#### Intergration \n",
    "<!--\n",
    "<font size=\"6\">  <div class=\"latex\">  -->\n",
    "$$\\int_{0}^{\\pi} sin(x)\\,dx$$\n",
    "<!--</div>    \n",
    "</font>__>>v>\n",
    "</(x) \\,dx  \n",
    "$$  "
   ]
  },
  {
   "cell_type": "code",
   "execution_count": 14,
   "id": "a6d7cc45-8c10-41b5-93b1-08f7011334a6",
   "metadata": {},
   "outputs": [
    {
     "name": "stdout",
     "output_type": "stream",
     "text": [
      "\n",
      "sin(x) 0 to pi =  1.9877629209369196\n",
      "\n",
      "\n"
     ]
    }
   ],
   "source": [
    "\n",
    "arrFrom = arrN[:(N-1)]\n",
    "arrTo=arrN[1:]\n",
    "arrdL = arrTo - arrFrom\n",
    "arrSinN_1=arrSinN[1:]\n",
    "arrResult = np.multiply(arrSinN_1,arrdL)\n",
    "print(\"\\nsin(x) 0 to pi = \",np.sum(arrResult))\n",
    "print(\"\\n\")"
   ]
  },
  {
   "cell_type": "code",
   "execution_count": 15,
   "id": "3cca5069-22f0-4d04-84ef-05618e8369b0",
   "metadata": {},
   "outputs": [
    {
     "name": "stdout",
     "output_type": "stream",
     "text": [
      "0.9145746160471017 0.6438801352940112\n"
     ]
    }
   ],
   "source": [
    "arrSinU=np.sin(arrU)\n",
    "print(np.average(arrSinN),np.average(arrSinU))"
   ]
  },
  {
   "cell_type": "code",
   "execution_count": 16,
   "id": "7ac6fd4a-ddfa-4848-b646-f05aa5c74fc8",
   "metadata": {},
   "outputs": [
    {
     "name": "stdout",
     "output_type": "stream",
     "text": [
      "0.0 0.9999999825749396\n",
      "6.209404453524298e-05 0.999999908533201\n"
     ]
    }
   ],
   "source": [
    "print(arrSinN.min(),arrSinN.max())\n",
    "print(arrSinU.min(),arrSinU.max())"
   ]
  },
  {
   "cell_type": "code",
   "execution_count": 17,
   "id": "3d3695ef-a10e-42e4-8f67-7f6deeb82900",
   "metadata": {},
   "outputs": [
    {
     "name": "stdout",
     "output_type": "stream",
     "text": [
      "2.022809102832068\n",
      "2.8732208949332803\n"
     ]
    }
   ],
   "source": [
    "#Result Output\n",
    "print(np.sum(arrSinU)/len(arrSinU)*np.pi)\n",
    "print(np.sum(arrSinN)/len(arrSinN)*np.pi)\n",
    "\n"
   ]
  },
  {
   "cell_type": "code",
   "execution_count": null,
   "id": "fda738f2-d590-4b99-9b65-0d0e2212b1ab",
   "metadata": {},
   "outputs": [],
   "source": []
  }
 ],
 "metadata": {
  "kernelspec": {
   "display_name": "Python 3 (ipykernel)",
   "language": "python",
   "name": "python3"
  },
  "language_info": {
   "codemirror_mode": {
    "name": "ipython",
    "version": 3
   },
   "file_extension": ".py",
   "mimetype": "text/x-python",
   "name": "python",
   "nbconvert_exporter": "python",
   "pygments_lexer": "ipython3",
   "version": "3.11.9"
  }
 },
 "nbformat": 4,
 "nbformat_minor": 5
}
